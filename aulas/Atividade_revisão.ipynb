{
 "cells": [
  {
   "cell_type": "markdown",
   "metadata": {},
   "source": [
    "## ATV 1\n",
    "## Crie variavés para armazenar nome, idade e cidade.\n",
    "## Exiba um print delas"
   ]
  },
  {
   "cell_type": "code",
   "execution_count": 1,
   "metadata": {},
   "outputs": [
    {
     "name": "stdout",
     "output_type": "stream",
     "text": [
      "Meu nome é matheus, tenho 23 anos e moro em são joão de meriti\n"
     ]
    }
   ],
   "source": [
    "nome = 'matheus'\n",
    "cidade = 'são joão de meriti'\n",
    "idade = 23\n",
    "\n",
    "print(f'Meu nome é {nome}, tenho {idade} anos e moro em {cidade}')"
   ]
  },
  {
   "cell_type": "markdown",
   "metadata": {},
   "source": [
    "##  ATV 2\n",
    "## Peça ao usuario uma idade.\n",
    "## Verifique se ele é maior de idade e exiba uma mensagem."
   ]
  },
  {
   "cell_type": "code",
   "execution_count": 2,
   "metadata": {},
   "outputs": [
    {
     "name": "stdout",
     "output_type": "stream",
     "text": [
      "digite em formato numerico\n",
      "é menor\n"
     ]
    }
   ],
   "source": [
    "while True:\n",
    "    try:\n",
    "        idade = int(input('digite sua idade: '))\n",
    "        break\n",
    "    except:\n",
    "        print('digite em formato numérico')\n",
    "\n",
    "if idade >= 18:\n",
    "    print('É maior de idade')\n",
    "else:\n",
    "    print('é menor de idade')"
   ]
  },
  {
   "cell_type": "markdown",
   "metadata": {},
   "source": [
    "## ATV3\n",
    "## Exiba os números de 1 a 10 usando for.\n",
    "## Exiba apenas os pares."
   ]
  },
  {
   "cell_type": "code",
   "execution_count": 10,
   "metadata": {},
   "outputs": [
    {
     "name": "stdout",
     "output_type": "stream",
     "text": [
      "0\n",
      "2\n",
      "4\n",
      "6\n",
      "8\n",
      "10\n"
     ]
    }
   ],
   "source": [
    "for contador in range(11):\n",
    "    if contador % 2 == 0:\n",
    "        print(contador)\n"
   ]
  },
  {
   "cell_type": "markdown",
   "metadata": {},
   "source": [
    "## ATV 4\n",
    "## Crie um contador que vai de 0 a 5 usando while.\n",
    "## Exiba o valor\n"
   ]
  },
  {
   "cell_type": "code",
   "execution_count": 18,
   "metadata": {},
   "outputs": [
    {
     "name": "stdout",
     "output_type": "stream",
     "text": [
      "0\n",
      "1\n",
      "2\n",
      "3\n",
      "4\n",
      "5\n"
     ]
    }
   ],
   "source": [
    "contador = 0\n",
    "\n",
    "while contador < 6:\n",
    "    print(contador)\n",
    "    contador += 1"
   ]
  },
  {
   "cell_type": "markdown",
   "metadata": {},
   "source": [
    "## ATV 5\n",
    "## Crie uma lista com 5 frutas.\n",
    "## Exiba a lista completa.\n",
    "## Mostre apenas a primeira e a ultima fruta.\n",
    "\n"
   ]
  },
  {
   "cell_type": "code",
   "execution_count": 24,
   "metadata": {},
   "outputs": [
    {
     "name": "stdout",
     "output_type": "stream",
     "text": [
      "['mamão', 'pera', 'maçã', 'jabuticba', 'melância']\n",
      "A primeira fruta é: mamão\n",
      "A ultima fruta é: melância\n"
     ]
    }
   ],
   "source": [
    "frutas = ['mamão', 'pera', 'maçã', 'jabuticba', 'melância']\n",
    "\n",
    "\n",
    "print(frutas)\n",
    "print(f'A primeira fruta é: {frutas[0]}')\n",
    "print(f'A ultima fruta é: {frutas[-1]}')\n",
    "\n"
   ]
  },
  {
   "cell_type": "markdown",
   "metadata": {},
   "source": [
    "## ATV 6\n",
    "## Adicione uma fruta à lista.\n",
    "## Remova uma fruta da lista\n",
    "## Substitua uma fruta por outra"
   ]
  },
  {
   "cell_type": "code",
   "execution_count": 27,
   "metadata": {},
   "outputs": [
    {
     "name": "stdout",
     "output_type": "stream",
     "text": [
      "['mamão', 'melão', 'pera', 'goiaba', 'jabuticba', 'melância']\n"
     ]
    }
   ],
   "source": [
    "frutas = ['mamão', 'pera', 'maçã', 'jabuticba', 'melância']\n",
    "\n",
    "frutas.insert(1,'melão')\n",
    "frutas[3] = 'goiaba'\n",
    "print(frutas)\n"
   ]
  },
  {
   "cell_type": "markdown",
   "metadata": {},
   "source": [
    "## ATV 7\n",
    "## Crie uma lista com 5 nomes\n",
    "## Use for para exibir cada nome com uma saudação"
   ]
  },
  {
   "cell_type": "code",
   "execution_count": 32,
   "metadata": {},
   "outputs": [
    {
     "name": "stdout",
     "output_type": "stream",
     "text": [
      "olá, matheus! \n",
      "olá, luiz! \n",
      "olá, marcos! \n",
      "olá, leonardo! \n",
      "olá, gabriel! \n"
     ]
    }
   ],
   "source": [
    "lista = ['matheus', 'luiz', 'marcos', 'leonardo', 'gabriel']\n",
    "\n",
    "for i in range(len(lista)):\n",
    "    (print(f'olá, {lista[i]}! '))"
   ]
  },
  {
   "cell_type": "markdown",
   "metadata": {},
   "source": [
    "## ATV 8\n",
    "## Crie uma lista com idades \n",
    "## Use for e if para exibir a idade de quem é maior"
   ]
  },
  {
   "cell_type": "code",
   "execution_count": 1,
   "metadata": {},
   "outputs": [
    {
     "name": "stdout",
     "output_type": "stream",
     "text": [
      "idade 25 é maior de idade\n",
      "idade 17 é menor de idade\n",
      "idade 18 é maior de idade\n",
      "idade 30 é maior de idade\n"
     ]
    }
   ],
   "source": [
    "lista_idades = [25, 17, 18, 30]\n",
    "\n",
    "for idades in lista_idades:\n",
    "    if idades >= 18:\n",
    "        print(f'idade {idades} é maior de idade')\n",
    "    else:\n",
    "        print(f'idade {idades} é menor de idade')\n",
    "    "
   ]
  },
  {
   "cell_type": "markdown",
   "metadata": {},
   "source": [
    "## ATV 9\n",
    "## Crie uma lista vazia.\n",
    "\n",
    "## Peça 3 nomes ao\n",
    "## usuário e adicione à lista.\n",
    "\n",
    "## Exiba a lista final."
   ]
  },
  {
   "cell_type": "code",
   "execution_count": 2,
   "metadata": {},
   "outputs": [
    {
     "name": "stdout",
     "output_type": "stream",
     "text": [
      "['matheus']\n",
      "['matheus', 'gabriel']\n",
      "['matheus', 'gabriel', 'vieira']\n"
     ]
    }
   ],
   "source": [
    "lista = []\n",
    "for i in range(3):\n",
    "    nome = input('Digite um nome: ')\n",
    "    lista.append(nome)\n",
    "    print(lista)"
   ]
  },
  {
   "cell_type": "markdown",
   "metadata": {},
   "source": [
    "### ATV 10\n",
    "### Crie uma lista de tarefas.\n",
    "\n",
    "### Permita adicionar, remover e listar tarefas.\n",
    "\n",
    "### Use while para manter o programa rodando até o usuário decidir sair."
   ]
  },
  {
   "cell_type": "code",
   "execution_count": 3,
   "metadata": {},
   "outputs": [
    {
     "name": "stdout",
     "output_type": "stream",
     "text": [
      "\n",
      "Menu de Tarefas:\n",
      "1. Adicionar tarefa\n",
      "2. Remover tarefa\n",
      "3. Listar tarefas\n",
      "4. Sair\n",
      "Tarefa \"1\" não encontrada na lista.\n",
      "\n",
      "Menu de Tarefas:\n",
      "1. Adicionar tarefa\n",
      "2. Remover tarefa\n",
      "3. Listar tarefas\n",
      "4. Sair\n",
      "Tarefa \"mensagem\" adicionada.\n",
      "\n",
      "Menu de Tarefas:\n",
      "1. Adicionar tarefa\n",
      "2. Remover tarefa\n",
      "3. Listar tarefas\n",
      "4. Sair\n",
      "Tarefa \"2\" não encontrada na lista.\n",
      "\n",
      "Menu de Tarefas:\n",
      "1. Adicionar tarefa\n",
      "2. Remover tarefa\n",
      "3. Listar tarefas\n",
      "4. Sair\n",
      "Saindo do programa.\n"
     ]
    }
   ],
   "source": [
    "lista_tarefas = []\n",
    "\n",
    "while True:\n",
    "    print(\"\\nMenu de Tarefas:\")\n",
    "    print(\"1. Adicionar tarefa\")\n",
    "    print(\"2. Remover tarefa\")\n",
    "    print(\"3. Listar tarefas\")\n",
    "    print(\"4. Sair\")\n",
    "    \n",
    "    escolha = input(\"Escolha uma opção (1-4): \")\n",
    "    \n",
    "    if escolha == '1':\n",
    "        tarefa = input(\"Digite a tarefa a ser adicionada: \")\n",
    "        lista_tarefas.append(tarefa)\n",
    "        print(f'Tarefa \"{tarefa}\" adicionada.')\n",
    "        \n",
    "    elif escolha == '2':\n",
    "        tarefa = input(\"Digite a tarefa a ser removida: \")\n",
    "        if tarefa in lista_tarefas:\n",
    "            lista_tarefas.remove(tarefa)\n",
    "            print(f'Tarefa \"{tarefa}\" removida.')\n",
    "        else:\n",
    "            print(f'Tarefa \"{tarefa}\" não encontrada na lista.')\n",
    "            \n",
    "    elif escolha == '3':\n",
    "        print(\"Lista de Tarefas:\")\n",
    "        for idx, tarefa in enumerate(lista_tarefas, start=1):\n",
    "            print(f\"{idx}. {tarefa}\")\n",
    "            \n",
    "    elif escolha == '4':\n",
    "        print(\"Saindo do programa.\")\n",
    "        break\n",
    "        \n",
    "    else:\n",
    "        print(\"Opção inválida. Tente novamente.\")"
   ]
  }
 ],
 "metadata": {
  "kernelspec": {
   "display_name": "Python 3",
   "language": "python",
   "name": "python3"
  },
  "language_info": {
   "codemirror_mode": {
    "name": "ipython",
    "version": 3
   },
   "file_extension": ".py",
   "mimetype": "text/x-python",
   "name": "python",
   "nbconvert_exporter": "python",
   "pygments_lexer": "ipython3",
   "version": "3.13.3"
  },
  "orig_nbformat": 4
 },
 "nbformat": 4,
 "nbformat_minor": 2
}
