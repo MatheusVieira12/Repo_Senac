{
 "cells": [
  {
   "cell_type": "markdown",
   "metadata": {},
   "source": [
    "## ATV 1\n",
    "## Crie variavés para armazenar nome, idade e cidade.\n",
    "## Exiba um print delas"
   ]
  },
  {
   "cell_type": "code",
   "execution_count": 1,
   "metadata": {},
   "outputs": [
    {
     "name": "stdout",
     "output_type": "stream",
     "text": [
      "Meu nome é matheus, tenho 23 anos e moro em são joão de meriti\n"
     ]
    }
   ],
   "source": [
    "nome = 'matheus'\n",
    "cidade = 'são joão de meriti'\n",
    "idade = 23\n",
    "\n",
    "print(f'Meu nome é {nome}, tenho {idade} anos e moro em {cidade}')"
   ]
  },
  {
   "cell_type": "markdown",
   "metadata": {},
   "source": [
    "##  ATV 2\n",
    "## Peça ao usuario uma idade.\n",
    "## Verifique se ele é maior de idade e exiba uma mensagem."
   ]
  },
  {
   "cell_type": "code",
   "execution_count": 2,
   "metadata": {},
   "outputs": [
    {
     "name": "stdout",
     "output_type": "stream",
     "text": [
      "digite em formato numerico\n",
      "é menor\n"
     ]
    }
   ],
   "source": [
    "while True:\n",
    "    try:\n",
    "        idade = int(input('digite sua idade: '))\n",
    "        break\n",
    "    except:\n",
    "        print('digite em formato numérico')\n",
    "\n",
    "if idade >= 18:\n",
    "    print('É maior de idade')\n",
    "else:\n",
    "    print('é menor de idade')"
   ]
  },
  {
   "cell_type": "markdown",
   "metadata": {},
   "source": [
    "## ATV3\n",
    "## Exiba os números de 1 a 10 usando for.\n",
    "## Exiba apenas os pares."
   ]
  },
  {
   "cell_type": "code",
   "execution_count": 10,
   "metadata": {},
   "outputs": [
    {
     "name": "stdout",
     "output_type": "stream",
     "text": [
      "0\n",
      "2\n",
      "4\n",
      "6\n",
      "8\n",
      "10\n"
     ]
    }
   ],
   "source": [
    "for contador in range(11):\n",
    "    if contador % 2 == 0:\n",
    "        print(contador)\n"
   ]
  },
  {
   "cell_type": "markdown",
   "metadata": {},
   "source": [
    "## ATV 4\n",
    "## Crie um contador que vai de 0 a 5 usando while.\n",
    "## Exiba o valor\n"
   ]
  },
  {
   "cell_type": "code",
   "execution_count": 18,
   "metadata": {},
   "outputs": [
    {
     "name": "stdout",
     "output_type": "stream",
     "text": [
      "0\n",
      "1\n",
      "2\n",
      "3\n",
      "4\n",
      "5\n"
     ]
    }
   ],
   "source": [
    "contador = 0\n",
    "\n",
    "while contador < 6:\n",
    "    print(contador)\n",
    "    contador += 1"
   ]
  },
  {
   "cell_type": "markdown",
   "metadata": {},
   "source": [
    "## ATV 5\n",
    "## Crie uma lista com 5 frutas.\n",
    "## Exiba a lista completa.\n",
    "## Mostre apenas a primeira e a ultima fruta.\n",
    "\n"
   ]
  },
  {
   "cell_type": "code",
   "execution_count": 24,
   "metadata": {},
   "outputs": [
    {
     "name": "stdout",
     "output_type": "stream",
     "text": [
      "['mamão', 'pera', 'maçã', 'jabuticba', 'melância']\n",
      "A primeira fruta é: mamão\n",
      "A ultima fruta é: melância\n"
     ]
    }
   ],
   "source": [
    "frutas = ['mamão', 'pera', 'maçã', 'jabuticba', 'melância']\n",
    "\n",
    "\n",
    "print(frutas)\n",
    "print(f'A primeira fruta é: {frutas[0]}')\n",
    "print(f'A ultima fruta é: {frutas[-1]}')\n",
    "\n"
   ]
  },
  {
   "cell_type": "markdown",
   "metadata": {},
   "source": [
    "## ATV 6\n",
    "## Adicione uma fruta à lista.\n",
    "## Remova uma fruta da lista\n",
    "## Substitua uma fruta por outra"
   ]
  },
  {
   "cell_type": "code",
   "execution_count": 27,
   "metadata": {},
   "outputs": [
    {
     "name": "stdout",
     "output_type": "stream",
     "text": [
      "['mamão', 'melão', 'pera', 'goiaba', 'jabuticba', 'melância']\n"
     ]
    }
   ],
   "source": [
    "frutas = ['mamão', 'pera', 'maçã', 'jabuticba', 'melância']\n",
    "\n",
    "frutas.insert(1,'melão')\n",
    "frutas[3] = 'goiaba'\n",
    "print(frutas)\n"
   ]
  },
  {
   "cell_type": "markdown",
   "metadata": {},
   "source": [
    "## ATV 7\n",
    "## Crie uma lista com 5 nomes\n",
    "## Use for para exibir cada nome com uma saudação"
   ]
  },
  {
   "cell_type": "code",
   "execution_count": 32,
   "metadata": {},
   "outputs": [
    {
     "name": "stdout",
     "output_type": "stream",
     "text": [
      "olá, matheus! \n",
      "olá, luiz! \n",
      "olá, marcos! \n",
      "olá, leonardo! \n",
      "olá, gabriel! \n"
     ]
    }
   ],
   "source": [
    "lista = ['matheus', 'luiz', 'marcos', 'leonardo', 'gabriel']\n",
    "\n",
    "for i in range(len(lista)):\n",
    "    (print(f'olá, {lista[i]}! '))"
   ]
  },
  {
   "cell_type": "markdown",
   "metadata": {},
   "source": [
    "## ATV 8\n",
    "## Crie uma lista com idades \n",
    "## Use for e if para exibir a idade de quem é maior"
   ]
  },
  {
   "cell_type": "code",
   "execution_count": 34,
   "metadata": {},
   "outputs": [
    {
     "ename": "NameError",
     "evalue": "name 'menor_idade' is not defined",
     "output_type": "error",
     "traceback": [
      "\u001b[31m---------------------------------------------------------------------------\u001b[39m",
      "\u001b[31mNameError\u001b[39m                                 Traceback (most recent call last)",
      "\u001b[36mCell\u001b[39m\u001b[36m \u001b[39m\u001b[32mIn[34]\u001b[39m\u001b[32m, line 5\u001b[39m\n\u001b[32m      1\u001b[39m lista_idades = [\u001b[32m25\u001b[39m, \u001b[32m17\u001b[39m, \u001b[32m18\u001b[39m, \u001b[32m30\u001b[39m]\n\u001b[32m      4\u001b[39m \u001b[38;5;28;01mfor\u001b[39;00m i \u001b[38;5;129;01min\u001b[39;00m \u001b[38;5;28mrange\u001b[39m(\u001b[38;5;28mlen\u001b[39m(lista_idades)):\n\u001b[32m----> \u001b[39m\u001b[32m5\u001b[39m     \u001b[38;5;28;01mif\u001b[39;00m i < \u001b[43mmenor_idade\u001b[49m:\n\u001b[32m      6\u001b[39m         \u001b[38;5;28mprint\u001b[39m(menor_idade)\n",
      "\u001b[31mNameError\u001b[39m: name 'menor_idade' is not defined"
     ]
    }
   ],
   "source": [
    "lista_idades = [25, 17, 18, 30]\n",
    "\n",
    "for idades in lista_idades:\n",
    "    if idades > \n",
    "    "
   ]
  }
 ],
 "metadata": {
  "kernelspec": {
   "display_name": "Python 3",
   "language": "python",
   "name": "python3"
  },
  "language_info": {
   "codemirror_mode": {
    "name": "ipython",
    "version": 3
   },
   "file_extension": ".py",
   "mimetype": "text/x-python",
   "name": "python",
   "nbconvert_exporter": "python",
   "pygments_lexer": "ipython3",
   "version": "3.11.4"
  },
  "orig_nbformat": 4
 },
 "nbformat": 4,
 "nbformat_minor": 2
}
