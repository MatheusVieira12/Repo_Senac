{
 "cells": [
  {
   "cell_type": "markdown",
   "metadata": {},
   "source": [
    "## Análise de dados - Senac RJ\n",
    "\n",
    "## Aula 5\n",
    "\n",
    "## Revisão"
   ]
  },
  {
   "cell_type": "code",
   "execution_count": null,
   "metadata": {},
   "outputs": [],
   "source": [
    "num = 20\n",
    "num2 = 30\n",
    "\n",
    "resultado = num + num2\n",
    "print(resultado)"
   ]
  },
  {
   "cell_type": "code",
   "execution_count": null,
   "metadata": {},
   "outputs": [],
   "source": [
    "print(f'O resultado de {num} + {num2} é: {resultado}')"
   ]
  },
  {
   "cell_type": "code",
   "execution_count": null,
   "metadata": {},
   "outputs": [],
   "source": [
    "num3 = int(input('digite o primeiro número: '))\n",
    "num4 = int(input('digite o segundo número: '))\n",
    "\n",
    "resultado2 = num3 + num4\n",
    "\n",
    "print(f'o resultado de {num3} + {num4} = {resultado2}')"
   ]
  },
  {
   "cell_type": "code",
   "execution_count": null,
   "metadata": {},
   "outputs": [],
   "source": [
    "b1 = float(input('digite o primeiro número: '))   ## se colocar virgula ao inves de ponto , vira tupla\n",
    "b2 = float(input('digite o segundo número: '))\n",
    "b3 = float(input('digite o terceiro número: '))\n",
    "b4 = float(input('digite o quarto número: '))\n",
    "\n",
    "media = (b1+b2+b3+b4) / 4\n",
    "\n",
    "if media >= 7:\n",
    "    print('aprovado')\n",
    "elif media < 7 and media >= 5:\n",
    "    print('recuperação')\n",
    "else:\n",
    "    print('reprovado')\n",
    "\n",
    "print(f'A média do aluno foi de: {media}')\n"
   ]
  },
  {
   "cell_type": "code",
   "execution_count": null,
   "metadata": {},
   "outputs": [],
   "source": [
    "while True:\n",
    "    try:\n",
    "        num3 = int(input('digite o primeiro número: '))\n",
    "        print(f'O valor é: {num3}')\n",
    "        break\n",
    "    except:\n",
    "        print('Digite o valor correto')"
   ]
  },
  {
   "cell_type": "code",
   "execution_count": null,
   "metadata": {},
   "outputs": [],
   "source": [
    "contador = 0\n",
    "while contador <= 6:\n",
    "    print(contador)\n",
    "    contador += 1"
   ]
  },
  {
   "cell_type": "code",
   "execution_count": null,
   "metadata": {},
   "outputs": [],
   "source": [
    "for i in range(10,0,-1):   ## de onde ele começa / quantidade de vezes / e anda em -1\n",
    "    print(i)"
   ]
  },
  {
   "cell_type": "code",
   "execution_count": 18,
   "metadata": {},
   "outputs": [
    {
     "name": "stdout",
     "output_type": "stream",
     "text": [
      "<class 'tuple'>\n"
     ]
    }
   ],
   "source": [
    "produtos = 'fogão', 'geladeira'\n",
    "print(type(produtos))"
   ]
  },
  {
   "cell_type": "code",
   "execution_count": 29,
   "metadata": {},
   "outputs": [
    {
     "name": "stdout",
     "output_type": "stream",
     "text": [
      "3\n",
      "o seu: fogão, vale : 600\n",
      "o seu: geladeira, vale : 800\n",
      "o seu: pia, vale : 700\n"
     ]
    }
   ],
   "source": [
    "produtos = ['fogão', 'geladeira', 'pia']\n",
    "preco = [600, 800, 700]\n",
    "\n",
    "print(len(produtos))\n",
    "\n",
    "for i in range(len(produtos)):\n",
    "    print(f'o seu: {produtos[i]}, vale : {preco[i]}')"
   ]
  },
  {
   "cell_type": "code",
   "execution_count": 7,
   "metadata": {},
   "outputs": [
    {
     "name": "stdout",
     "output_type": "stream",
     "text": [
      "['Queijo', 'ovo', 'sardinha']\n",
      "['goiaba', 'Queijo', 'ovo', 'sardinha', 'sabão', 'salmão']\n"
     ]
    }
   ],
   "source": [
    "# slicing\n",
    "lista = ['chocolate', 'maça', 'ovo', 'ovo', 'sardinha', 'sabão']\n",
    "\n",
    "# Modificar indice da lista\n",
    "lista[1] = 'goiaba'\n",
    "\n",
    "# inseri no Indice que eu escolho sem substituir\n",
    "lista.insert(2, 'Queijo')\n",
    "\n",
    "lista.append('salmão') # insere sempre no final\n",
    "\n",
    "lista.remove('ovo') # remove o primeiro item que encontrar\n",
    "\n",
    "lista.pop(0) # remove por posição, sem nada dentro = remove o ultimo\n",
    "\n",
    "print(lista[1:4])\n",
    "\n",
    "print(lista)\n"
   ]
  }
 ],
 "metadata": {
  "kernelspec": {
   "display_name": "Python 3",
   "language": "python",
   "name": "python3"
  },
  "language_info": {
   "codemirror_mode": {
    "name": "ipython",
    "version": 3
   },
   "file_extension": ".py",
   "mimetype": "text/x-python",
   "name": "python",
   "nbconvert_exporter": "python",
   "pygments_lexer": "ipython3",
   "version": "3.11.4"
  },
  "orig_nbformat": 4
 },
 "nbformat": 4,
 "nbformat_minor": 2
}
