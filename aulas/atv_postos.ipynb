{
 "cells": [
  {
   "cell_type": "code",
   "execution_count": 7,
   "metadata": {},
   "outputs": [
    {
     "name": "stderr",
     "output_type": "stream",
     "text": [
      "C:\\Users\\usuario\\AppData\\Local\\Temp\\ipykernel_39248\\2430735703.py:3: DtypeWarning: Columns (0,1,2,3,4,5,6,7,8,9,10,11,12,14,15) have mixed types. Specify dtype option on import or set low_memory=False.\n",
      "  df = pd.read_csv('comb.csv', sep=';')\n"
     ]
    }
   ],
   "source": [
    "import pandas as pd\n",
    "\n",
    "df = pd.read_csv('comb.csv', sep=';')"
   ]
  },
  {
   "cell_type": "code",
   "execution_count": 15,
   "metadata": {},
   "outputs": [
    {
     "data": {
      "text/html": [
       "<div>\n",
       "<style scoped>\n",
       "    .dataframe tbody tr th:only-of-type {\n",
       "        vertical-align: middle;\n",
       "    }\n",
       "\n",
       "    .dataframe tbody tr th {\n",
       "        vertical-align: top;\n",
       "    }\n",
       "\n",
       "    .dataframe thead th {\n",
       "        text-align: right;\n",
       "    }\n",
       "</style>\n",
       "<table border=\"1\" class=\"dataframe\">\n",
       "  <thead>\n",
       "    <tr style=\"text-align: right;\">\n",
       "      <th></th>\n",
       "      <th>Produto</th>\n",
       "      <th>Bairro</th>\n",
       "      <th>Valor de Venda</th>\n",
       "    </tr>\n",
       "  </thead>\n",
       "  <tbody>\n",
       "    <tr>\n",
       "      <th>54</th>\n",
       "      <td>GNV</td>\n",
       "      <td>PQ SANTO AMARO</td>\n",
       "      <td>5,39</td>\n",
       "    </tr>\n",
       "    <tr>\n",
       "      <th>55</th>\n",
       "      <td>GASOLINA</td>\n",
       "      <td>PQ SANTO AMARO</td>\n",
       "      <td>6,49</td>\n",
       "    </tr>\n",
       "    <tr>\n",
       "      <th>56</th>\n",
       "      <td>GASOLINA ADITIVADA</td>\n",
       "      <td>PQ SANTO AMARO</td>\n",
       "      <td>6,69</td>\n",
       "    </tr>\n",
       "    <tr>\n",
       "      <th>57</th>\n",
       "      <td>ETANOL</td>\n",
       "      <td>PQ SANTO AMARO</td>\n",
       "      <td>4,79</td>\n",
       "    </tr>\n",
       "    <tr>\n",
       "      <th>58</th>\n",
       "      <td>GASOLINA</td>\n",
       "      <td>TURF CLUB</td>\n",
       "      <td>6,42</td>\n",
       "    </tr>\n",
       "    <tr>\n",
       "      <th>...</th>\n",
       "      <td>...</td>\n",
       "      <td>...</td>\n",
       "      <td>...</td>\n",
       "    </tr>\n",
       "    <tr>\n",
       "      <th>420095</th>\n",
       "      <td>DIESEL S10</td>\n",
       "      <td>CHACARA PARAISO</td>\n",
       "      <td>6,69</td>\n",
       "    </tr>\n",
       "    <tr>\n",
       "      <th>420096</th>\n",
       "      <td>ETANOL</td>\n",
       "      <td>CHACARA PARAISO</td>\n",
       "      <td>5,05</td>\n",
       "    </tr>\n",
       "    <tr>\n",
       "      <th>420152</th>\n",
       "      <td>GASOLINA</td>\n",
       "      <td>FONSECA</td>\n",
       "      <td>5,69</td>\n",
       "    </tr>\n",
       "    <tr>\n",
       "      <th>420153</th>\n",
       "      <td>GASOLINA ADITIVADA</td>\n",
       "      <td>FONSECA</td>\n",
       "      <td>5,69</td>\n",
       "    </tr>\n",
       "    <tr>\n",
       "      <th>420154</th>\n",
       "      <td>ETANOL</td>\n",
       "      <td>FONSECA</td>\n",
       "      <td>4,19</td>\n",
       "    </tr>\n",
       "  </tbody>\n",
       "</table>\n",
       "<p>36254 rows × 3 columns</p>\n",
       "</div>"
      ],
      "text/plain": [
       "                   Produto           Bairro Valor de Venda\n",
       "54                     GNV   PQ SANTO AMARO           5,39\n",
       "55                GASOLINA   PQ SANTO AMARO           6,49\n",
       "56      GASOLINA ADITIVADA   PQ SANTO AMARO           6,69\n",
       "57                  ETANOL   PQ SANTO AMARO           4,79\n",
       "58                GASOLINA        TURF CLUB           6,42\n",
       "...                    ...              ...            ...\n",
       "420095          DIESEL S10  CHACARA PARAISO           6,69\n",
       "420096              ETANOL  CHACARA PARAISO           5,05\n",
       "420152            GASOLINA          FONSECA           5,69\n",
       "420153  GASOLINA ADITIVADA          FONSECA           5,69\n",
       "420154              ETANOL          FONSECA           4,19\n",
       "\n",
       "[36254 rows x 3 columns]"
      ]
     },
     "execution_count": 15,
     "metadata": {},
     "output_type": "execute_result"
    }
   ],
   "source": [
    "df_rio = df[df['Estado - Sigla'] == 'RJ']\n",
    "df_rio = df_rio[['Produto','Bairro', 'Valor de Venda']]\n",
    "df_rio"
   ]
  },
  {
   "cell_type": "code",
   "execution_count": null,
   "metadata": {},
   "outputs": [],
   "source": [
    "media_bairros = df_rio.groupby(['Produto', 'Bairro'])['Valor de Venda'].mean().reset_index()\n",
    "media_bairros"
   ]
  }
 ],
 "metadata": {
  "kernelspec": {
   "display_name": "Python 3",
   "language": "python",
   "name": "python3"
  },
  "language_info": {
   "codemirror_mode": {
    "name": "ipython",
    "version": 3
   },
   "file_extension": ".py",
   "mimetype": "text/x-python",
   "name": "python",
   "nbconvert_exporter": "python",
   "pygments_lexer": "ipython3",
   "version": "3.12.4"
  },
  "orig_nbformat": 4
 },
 "nbformat": 4,
 "nbformat_minor": 2
}
