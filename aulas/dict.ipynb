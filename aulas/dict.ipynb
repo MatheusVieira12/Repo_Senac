{
 "cells": [
  {
   "cell_type": "code",
   "execution_count": 5,
   "metadata": {},
   "outputs": [],
   "source": [
    "\n",
    "aluno = {\"nome\": \"Ana\", \"idade\": 16, \"nota\": 9.0}"
   ]
  },
  {
   "cell_type": "code",
   "execution_count": 6,
   "metadata": {},
   "outputs": [
    {
     "name": "stdout",
     "output_type": "stream",
     "text": [
      "Ana\n"
     ]
    }
   ],
   "source": [
    "print(aluno[\"nome\"])"
   ]
  },
  {
   "cell_type": "code",
   "execution_count": 4,
   "metadata": {},
   "outputs": [
    {
     "name": "stdout",
     "output_type": "stream",
     "text": [
      "None\n"
     ]
    }
   ],
   "source": [
    "print(aluno.get(\"time\"))"
   ]
  },
  {
   "cell_type": "code",
   "execution_count": 8,
   "metadata": {},
   "outputs": [
    {
     "name": "stdout",
     "output_type": "stream",
     "text": [
      "{'matheus': [10], 'maria': []}\n"
     ]
    }
   ],
   "source": [
    "usuarios_filmes = {'matheus': [], 'maria': []}\n",
    "\n",
    "while True:\n",
    "    print(\"\\nMenu de Tarefas:\")\n",
    "    print(\"1. Adicionar tarefa\")\n",
    "    print(\"2. Remover tarefa\")\n",
    "    print(\"3. Listar tarefas\")\n",
    "    print(\"4. Sair\")\n",
    "    \n",
    "    escolha = input(\"Escolha uma opção (1-4): \")\n",
    "    \n",
    "    if escolha == '1':\n",
    "        filme = input(\"Digite o filme a ser adicionado: \")\n",
    "\n",
    "        \n",
    "    elif escolha == '2':\n",
    "        filme = input(\"Digite o filme a ser adicionado: \")\n",
    "        \n",
    "    elif escolha == '3':\n",
    "        print(\"Lista de filmes: \")\n",
    "        \n",
    "            \n",
    "    elif escolha == '4':\n",
    "        print(\"Saindo do programa.\")\n",
    "        break\n",
    "\n",
    "print(usuarios)"
   ]
  }
 ],
 "metadata": {
  "kernelspec": {
   "display_name": "Python 3",
   "language": "python",
   "name": "python3"
  },
  "language_info": {
   "codemirror_mode": {
    "name": "ipython",
    "version": 3
   },
   "file_extension": ".py",
   "mimetype": "text/x-python",
   "name": "python",
   "nbconvert_exporter": "python",
   "pygments_lexer": "ipython3",
   "version": "3.11.4"
  },
  "orig_nbformat": 4
 },
 "nbformat": 4,
 "nbformat_minor": 2
}
