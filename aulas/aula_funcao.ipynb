{
 "cells": [
  {
   "cell_type": "code",
   "execution_count": 2,
   "metadata": {},
   "outputs": [
    {
     "name": "stdout",
     "output_type": "stream",
     "text": [
      "bem vindo ao senac\n",
      "None\n"
     ]
    }
   ],
   "source": [
    "## sem parametro\n",
    "\n",
    "def mostrar_boas_vindas():\n",
    "    print('bem vindo ao senac')\n",
    "\n",
    "print(mostrar_boas_vindas())"
   ]
  },
  {
   "cell_type": "code",
   "execution_count": 7,
   "metadata": {},
   "outputs": [
    {
     "name": "stdout",
     "output_type": "stream",
     "text": [
      "Meu nome é: Naruto\n"
     ]
    }
   ],
   "source": [
    "def saudacao(nome):\n",
    "    print(f'Meu nome é: {nome}')\n",
    "\n",
    "saudacao('Naruto')"
   ]
  },
  {
   "cell_type": "code",
   "execution_count": 9,
   "metadata": {},
   "outputs": [
    {
     "name": "stdout",
     "output_type": "stream",
     "text": [
      "8\n"
     ]
    }
   ],
   "source": [
    "def soma(a, b):\n",
    "    return a + b\n",
    "\n",
    "resultado = soma(5,3)\n",
    "\n",
    "print(resultado)"
   ]
  },
  {
   "cell_type": "code",
   "execution_count": 13,
   "metadata": {},
   "outputs": [
    {
     "name": "stdout",
     "output_type": "stream",
     "text": [
      "a soma do primeiro par: 8 \n",
      "a soma do primeiro par: 14 \n",
      "a soma do primeiro par: 35 \n"
     ]
    }
   ],
   "source": [
    "def soma(a, b):\n",
    "    return a + b\n",
    "\n",
    "\n",
    "primeiro = soma(5,3)\n",
    "segundo = soma(13,1)\n",
    "terceiro = soma(15,20)\n",
    "\n",
    "print(f'a soma do primeiro par: {primeiro} ')\n",
    "print(f'a soma do primeiro par: {segundo} ')\n",
    "print(f'a soma do primeiro par: {terceiro} ')\n",
    "\n",
    "\n",
    "\n",
    "\n"
   ]
  },
  {
   "cell_type": "code",
   "execution_count": 30,
   "metadata": {},
   "outputs": [
    {
     "name": "stdout",
     "output_type": "stream",
     "text": [
      "180\n"
     ]
    }
   ],
   "source": [
    "def verificar_multa(velocidade_via, velocidade_pas):\n",
    "    excesso = (velocidade_pas - velocidade_via) / velocidade_via\n",
    "\n",
    "    if excesso <= 0.10:\n",
    "        return 180\n",
    "    elif 0.10 < excesso <= 0.30:\n",
    "        return 340\n",
    "    elif excesso > 0.30:\n",
    "        return 480\n",
    "print(verificar_multa(20, 10))  \n"
   ]
  },
  {
   "cell_type": "code",
   "execution_count": 41,
   "metadata": {},
   "outputs": [
    {
     "name": "stdout",
     "output_type": "stream",
     "text": [
      "1582.9800000000002\n"
     ]
    }
   ],
   "source": [
    "def tmb(sexo, peso, idade, altura):\n",
    "\n",
    "    if sexo == 'homem':\n",
    "        return 66.5 +(13.75 * peso) + (5.003 * altura) - (6.755 * idade)\n",
    "    elif sexo == 'mulher':\n",
    "        return 655.1 + (9.563 * peso) + (1.850 * altura) - (4.676 * idade)\n",
    "\n",
    "print(tmb('homem', 50, 18, 190))\n"
   ]
  }
 ],
 "metadata": {
  "kernelspec": {
   "display_name": "Python 3",
   "language": "python",
   "name": "python3"
  },
  "language_info": {
   "codemirror_mode": {
    "name": "ipython",
    "version": 3
   },
   "file_extension": ".py",
   "mimetype": "text/x-python",
   "name": "python",
   "nbconvert_exporter": "python",
   "pygments_lexer": "ipython3",
   "version": "3.11.4"
  },
  "orig_nbformat": 4
 },
 "nbformat": 4,
 "nbformat_minor": 2
}
